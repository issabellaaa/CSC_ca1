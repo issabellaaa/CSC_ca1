{
 "cells": [
  {
   "cell_type": "code",
   "execution_count": 1,
   "metadata": {},
   "outputs": [
    {
     "name": "stdout",
     "output_type": "stream",
     "text": [
      "Collecting veryfi\n",
      "  Downloading veryfi-0.0.5.tar.gz (8.0 kB)\n",
      "Requirement already satisfied: requests in c:\\users\\kyikh\\anaconda3\\lib\\site-packages (from veryfi) (2.24.0)\n",
      "Requirement already satisfied: chardet<4,>=3.0.2 in c:\\users\\kyikh\\anaconda3\\lib\\site-packages (from requests->veryfi) (3.0.4)\n",
      "Requirement already satisfied: certifi>=2017.4.17 in c:\\users\\kyikh\\anaconda3\\lib\\site-packages (from requests->veryfi) (2020.6.20)\n",
      "Requirement already satisfied: urllib3!=1.25.0,!=1.25.1,<1.26,>=1.21.1 in c:\\users\\kyikh\\anaconda3\\lib\\site-packages (from requests->veryfi) (1.25.11)\n",
      "Requirement already satisfied: idna<3,>=2.5 in c:\\users\\kyikh\\anaconda3\\lib\\site-packages (from requests->veryfi) (2.10)\n",
      "Building wheels for collected packages: veryfi\n",
      "  Building wheel for veryfi (setup.py): started\n",
      "  Building wheel for veryfi (setup.py): finished with status 'done'\n",
      "  Created wheel for veryfi: filename=veryfi-0.0.5-py3-none-any.whl size=7545 sha256=9db44fad562d9b587636a208e05e7257a3fee746861b5ec8985042319df11c47\n",
      "  Stored in directory: c:\\users\\kyikh\\appdata\\local\\pip\\cache\\wheels\\bb\\38\\8d\\f4357e70ee0e17c820b2b86f2da90b58125f8ec89d15a26fa7\n",
      "Successfully built veryfi\n",
      "Installing collected packages: veryfi\n",
      "Successfully installed veryfi-0.0.5\n",
      "Note: you may need to restart the kernel to use updated packages.\n"
     ]
    }
   ],
   "source": [
    "pip install veryfi"
   ]
  },
  {
   "cell_type": "code",
   "execution_count": 2,
   "metadata": {},
   "outputs": [
    {
     "name": "stdout",
     "output_type": "stream",
     "text": [
      "{'abn_number': '', 'account_number': '', 'bill_to_address': '', 'bill_to_name': '', 'bill_to_vat_number': '', 'card_number': '7373', 'cashback': 0.0, 'category': '', 'created': '2021-01-04 09:38:32', 'currency_code': 'USD', 'date': '2018-10-17 09:03:00', 'delivery_date': '', 'discount': 0.0, 'document_reference_number': '4341505054414C204F4', 'due_date': '', 'external_id': '', 'id': 31303499, 'img_file_name': 'c26d6aff-4359-4517-88da-488ed280cbdb.png', 'img_thumbnail_url': 'https://scdn.veryfi.com/receipts/c26d6aff-4359-4517-88da-488ed280cbdb_t.png?Expires=1609753172&Signature=bgOm1rivPcobbz1cfD9blc3cRKQDzI-Os8T8rlE5c51DObAqEcbNi1ahyqsF6IU01u-I1mKs2YNlUMVdkstStk-GisehaASrknM1ru572vvJH~W7kwAAUkOkB0aV36jpleRnsT~3Z6mce-5gslenzwWa3edL9I00AA~5k9yp1Db-X5JSySxSc-n0dkxE5a7ouSUe6RcGJmqqf-lh5CL0NmWn-2szyFSMTnBG37Is4U-YwUDb4z8DNtCqpLV~62itLWXcNYUX9I-2fuK7EH5nnQqrVbrd2UxzHX9amf2b76MEoG4Scrp-vYk65-nZ2gdRj3pB0oC2T3dgEMttVrX24Q__&Key-Pair-Id=APKAJCILBXEJFZF4DCHQ', 'img_url': 'https://scdn.veryfi.com/receipts/c26d6aff-4359-4517-88da-488ed280cbdb.png?Expires=1609753172&Signature=AmUgqpcSQlngJVcjOlJoJlH0JerSDsbMPwd3suMSM-mtpQKM0nwMqTuyiCPI2eOd~CtrnFLmjjM-TACxlDOGtpXAoilRSO~IJ1MYCrHBbYZbqlDGoMQyvL8vwEvMg0izvYkUy4P9Al7XvwJEttPs7irzEYZTNjggc4qPuGz~GmiSYaF8pXb0g7dgMk0ehMnL1e2CMuus9BaYMlWFKHY2vzUzYvNu1Rzi53CbolGS363KZsngOF8b~7XI-CJbhcaQFtsplWP91I~0Di3iAiBr4LiCOWc~XsEv9P8jv32DGWAPZYJlU-kHAXYOR8RThpyjLna5UAQCCw7fcxErbG6ExQ__&Key-Pair-Id=APKAJCILBXEJFZF4DCHQ', 'insurance': '', 'invoice_number': '17717', 'line_items': [{'date': '', 'description': 'SNIP LEFT <A>\\nWISS LEFT-CUT SNIPS', 'discount': 4.0, 'id': 31138421, 'order': 0, 'price': 0.0, 'quantity': 1.0, 'reference': '', 'sku': '037103136480', 'tax': 0.0, 'tax_rate': 0.0, 'total': 9.97, 'type': 'product', 'unit_of_measure': ''}, {'date': '', 'description': 'MILW5PCKBLDG <A>\\nMKE 5PK GENERAL PURPOSE BLADES', 'discount': 0.0, 'id': 31138422, 'order': 1, 'price': 0.0, 'quantity': 1.0, 'reference': '', 'sku': '045242268061', 'tax': 0.0, 'tax_rate': 0.0, 'total': 1.18, 'type': 'product', 'unit_of_measure': ''}, {'date': '', 'description': '1LB. SCREW <A>\\nEB NEO SELF-DRILLING 12X1', 'discount': 0.0, 'id': 31138423, 'order': 2, 'price': 0.0, 'quantity': 1.0, 'reference': '', 'sku': '038902058966', 'tax': 0.0, 'tax_rate': 0.0, 'total': 10.57, 'type': 'product', 'unit_of_measure': ''}, {'date': '', 'description': '1LB. SCREW <A>\\nEB NEO SELF-DRILLING 12X3/4', 'discount': 0.0, 'id': 31138424, 'order': 3, 'price': 0.0, 'quantity': 1.0, 'reference': '', 'sku': '038902058959', 'tax': 0.0, 'tax_rate': 0.0, 'total': 10.57, 'type': 'product', 'unit_of_measure': ''}], 'ocr_text': 'HOME\\nTHE\\nDEPOT\\nMore saving.\\n® More doing.\"\\n2250 SOUTHGATE RD, COLORADO SPRINGS, CO\\nBECKY NATION STOREMANAGER 719-471-0054\\n1518 00000 17717 10/17/18 09:03 AM\\nSELF CHECK OUT\\n037103136480 SNIP LEFT <A>\\t9.97\\nWISS LEFT-CUT SNIPS\\nNLP Savings $4.00\\n045242268061 MILW5PCKBLDG <A>\\t1.18\\nMKE 5PK GENERAL PURPOSE BLADES\\n038902058966 1LB. SCREW <A>\\t10.57\\nEB NEO SELF-DRILLING 12X1\\n038902058959 1LB. SCREW <A>\\t10.57\\nEB NEO SELF-DRILLING 12X3/4\\nSUBTOTAL\\t32.29\\nSALES TAX\\t2.66\\nTOTAL\\t$34.95\\nXXXXXXXXXXXX7373 VISA\\n\\tUSD$ 34.95\\nAUTH CODE 025972/8585391\\tTA\\nAID A0000003131010 4341505054414C204F4\\nE452050595341\\n', 'order_date': '', 'payment_display_name': 'Visa ***7373', 'payment_terms': '', 'payment_type': 'visa', 'phone_number': '719-471-0054', 'purchase_order_number': '', 'rounding': 0.0, 'service_end_date': '', 'service_start_date': '', 'ship_date': '', 'ship_to_address': '', 'ship_to_name': '', 'shipping': 0.0, 'subtotal': 32.29, 'tax': 2.66, 'tax_lines': [{'name': 'SALES', 'order': 0, 'rate': 0.0, 'total': 2.66}], 'tip': 0.0, 'total': 34.95, 'total_weight': '', 'tracking_number': '', 'vat_number': '', 'vendor': {'address': '2250 Southgate Rd, Colorado Springs, CO 80906, United States', 'category': 'Nurseries & Gardening', 'email': '', 'fax_number': '', 'name': 'The Home Depot', 'phone_number': '719-471-0054', 'raw_name': 'Home Depot', 'vendor_logo': 'https://cdn.veryfi.com/logos/us/051435926.jpg', 'vendor_reg_number': '', 'vendor_type': 'hardware store', 'web': ''}, 'vendor_account_number': '', 'vendor_bank_name': '', 'vendor_bank_number': '', 'vendor_bank_swift': '', 'vendor_iban': ''}\n"
     ]
    }
   ],
   "source": [
    "from veryfi import Client\n",
    "\n",
    "client_id = 'vrf1uztCZKm4Nna4NgDEWOPFm1hghLrRscsZGeo'\n",
    "client_secret = 'Hl95AneYv3clZ5r8NtVkFwFcflwWBPeAmaF5FMfsUf99trJtIatfRYViphn4guk7zebhMT1N2r8R1D7wO0HPiGvRXnDwSrBdMY9WdDL78ldLwzY9M4jp7uAwEmeRRk6M'\n",
    "username = 'kyikhin883'\n",
    "api_key = '6a067d2973a94dd135499f5c6f7f94a8'\n",
    "categories = ['Grocery', 'Utilities', 'Travel']\n",
    "file_path = 'bill.png'\n",
    "\n",
    "# This submits document for processing (takes 3-5 seconds to get response)\n",
    "veryfi_client = Client(client_id, client_secret, username, api_key)\n",
    "response = veryfi_client.process_document(file_path, categories=categories)\n",
    "print (response)"
   ]
  },
  {
   "cell_type": "code",
   "execution_count": null,
   "metadata": {},
   "outputs": [],
   "source": []
  }
 ],
 "metadata": {
  "kernelspec": {
   "display_name": "Python 3",
   "language": "python",
   "name": "python3"
  },
  "language_info": {
   "codemirror_mode": {
    "name": "ipython",
    "version": 3
   },
   "file_extension": ".py",
   "mimetype": "text/x-python",
   "name": "python",
   "nbconvert_exporter": "python",
   "pygments_lexer": "ipython3",
   "version": "3.8.5"
  }
 },
 "nbformat": 4,
 "nbformat_minor": 4
}
